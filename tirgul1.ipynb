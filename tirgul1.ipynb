{
 "cells": [
  {
   "cell_type": "markdown",
   "metadata": {
    "id": "jpyLUqy9oK_n"
   },
   "source": [
    "# In this class we will use Jupyter LAb\n",
    "## Installation instructions for JupyterLab:\n",
    "### https://www.youtube.com/watch?v=uOwCiZKj2rg\n",
    "#### Install Anaconda Navigator and Jupyter Lab\n",
    "#### Another option see presentation"
   ]
  },
  {
   "cell_type": "code",
   "execution_count": null,
   "metadata": {},
   "outputs": [],
   "source": []
  },
  {
   "cell_type": "code",
   "execution_count": 1,
   "metadata": {},
   "outputs": [],
   "source": [
    "# Moodle"
   ]
  },
  {
   "cell_type": "markdown",
   "metadata": {
    "id": "9KSDLyKxoK_q"
   },
   "source": [
    "### great python numpy tutorials:\n",
    "#### https://www.youtube.com/watch?v=7wfPqAyYADY&list=PLcD0MjpSMpGRoZgeb509_yICnabm4PYqc\n",
    "## markdown link\n",
    "[link to Notebooks Tutorials](https://www.youtube.com/watch?v=7wfPqAyYADY&list=PLcD0MjpSMpGRoZgeb509_yICnabm4PYqc)"
   ]
  },
  {
   "cell_type": "markdown",
   "metadata": {
    "id": "mqb-lUjloK_s"
   },
   "source": [
    "# Hebrew tutorial for Jupyter Notebook (the old version before Jupyter Lab)\n",
    "# https://www.youtube.com/watch?v=g9EglM7Ymns"
   ]
  },
  {
   "cell_type": "markdown",
   "metadata": {
    "id": "ZmG6_OkboK_u"
   },
   "source": [
    "\n",
    "    "
   ]
  },
  {
   "cell_type": "markdown",
   "metadata": {
    "id": "PTgujKtGoK_u"
   },
   "source": [
    "# data sciene income:.\n",
    "#### https://www.sqlink.com/salary/\n",
    "#### https://www.nisha.co.il/%D7%98%D7%91%D7%9C%D7%90%D7%95%D7%AA-%D7%A9%D7%9B%D7%A8\n",
    "#### https://www.alljobs.co.il/User/SalaryCompound/position/?JobCategoryID=1733"
   ]
  },
  {
   "cell_type": "code",
   "execution_count": null,
   "metadata": {
    "id": "pt4zFeBloK_u"
   },
   "outputs": [],
   "source": []
  },
  {
   "cell_type": "code",
   "execution_count": 2,
   "metadata": {
    "id": "Hw5c1PdToK_v"
   },
   "outputs": [
    {
     "name": "stdout",
     "output_type": "stream",
     "text": [
      "Hello Python notebook\n"
     ]
    }
   ],
   "source": [
    "# same Python commands work\n",
    "print(\"Hello Python notebook\")"
   ]
  },
  {
   "cell_type": "markdown",
   "metadata": {
    "id": "k3pfc_eQoK_v"
   },
   "source": [
    "### In Notebooks there are modes: Command mode and Edit mode\n",
    "### A Script can be run as a Python Code or as a Markdown\n",
    "# Markdown in wikipedia (https://en.wikipedia.org/wiki/Markdown)"
   ]
  },
  {
   "cell_type": "markdown",
   "metadata": {
    "id": "SW9P2aqtoK_w"
   },
   "source": [
    "# Google Colab keyboard shortcuts: press ctrl+m+h to open shortcuts list\n",
    "# Jupiter Lab keyboard shortcuts\n",
    "# https://gist.github.com/discdiver/9e00618756d120a8c9fa344ac1c375ac\n",
    "\n",
    "## keyboard shotrctus greatly increase productivity, here are some commons:\n",
    "### note there are modes: Command mode (outside the cells) and edit mode (inside a cell)\n",
    "### shortcut to edit mode -> command mode: Esc\n",
    "### shortcut to command mode ->  edit mode: Enter\n",
    "### Ctrl+B toggle hide/show left sidebar\n",
    "### Ctrl + / toggle comment\n",
    "### Ctrl + ] indent \n",
    "### Dedent: Ctrl + ["
   ]
  },
  {
   "cell_type": "markdown",
   "metadata": {
    "id": "rJdFfTEooK_x"
   },
   "source": [
    "# jupyter lab has a markdown \\ code option mode.\n",
    "# (Header 1, title)\n",
    "## (Header 2, major headings)\n",
    "### (Header 3, subheadings)\n",
    "#### (Header 4)\n",
    "##### (Header 5)\n",
    "###### (Header 6)``"
   ]
  },
  {
   "cell_type": "code",
   "execution_count": 3,
   "metadata": {
    "id": "TDSILoz_oK_y"
   },
   "outputs": [
    {
     "name": "stdout",
     "output_type": "stream",
     "text": [
      "Requirement already satisfied: numpy in c:\\users\\yona\\anaconda3\\lib\\site-packages (1.19.2)\n",
      "Requirement already satisfied: pandas in c:\\users\\yona\\anaconda3\\lib\\site-packages (1.1.3)\n",
      "Requirement already satisfied: numpy>=1.15.4 in c:\\users\\yona\\anaconda3\\lib\\site-packages (from pandas) (1.19.2)\n",
      "Requirement already satisfied: python-dateutil>=2.7.3 in c:\\users\\yona\\anaconda3\\lib\\site-packages (from pandas) (2.8.1)\n",
      "Requirement already satisfied: pytz>=2017.2 in c:\\users\\yona\\anaconda3\\lib\\site-packages (from pandas) (2020.1)\n",
      "Requirement already satisfied: six>=1.5 in c:\\users\\yona\\anaconda3\\lib\\site-packages (from python-dateutil>=2.7.3->pandas) (1.15.0)\n"
     ]
    }
   ],
   "source": [
    "# cmd view point denoted by ! sign\n",
    "!pip install numpy\n",
    "!pip install pandas"
   ]
  },
  {
   "cell_type": "code",
   "execution_count": null,
   "metadata": {
    "id": "1sXd5ZhxoK_z"
   },
   "outputs": [],
   "source": [
    "\n",
    "# read file using pandas\n",
    "# pandas is a fast, powerful, flexible and easy to use open source data analysis in python\n",
    "import pandas as pd\n",
    "url = 'https://raw.githubusercontent.com/ShaiYona/Data-Science2021B/main/tirgulim/tirgul1/titanic_short.csv' # read from net.\n",
    "data = pd.read_csv(url)\n",
    "data.head() # we can set the number of first rows to be displayed.\n",
    "# to read from current folder simply write the filename\n",
    "# guess what is the commmand for the end"
   ]
  },
  {
   "cell_type": "code",
   "execution_count": null,
   "metadata": {
    "id": "TrxstzsZoK_0"
   },
   "outputs": [],
   "source": [
    "# same goes for tail\n",
    "\n",
    "data.tail(2)"
   ]
  },
  {
   "cell_type": "code",
   "execution_count": null,
   "metadata": {
    "id": "s6JIIrMooK_1"
   },
   "outputs": [],
   "source": [
    "#### Set specific cells:\n",
    "data[10:19]"
   ]
  },
  {
   "cell_type": "code",
   "execution_count": null,
   "metadata": {
    "id": "m89Pb8D_oK_1"
   },
   "outputs": [],
   "source": [
    "# self excercise: suggest how to display only survivors (denoted in 1)\n"
   ]
  },
  {
   "cell_type": "code",
   "execution_count": null,
   "metadata": {
    "id": "q7K6Xd3-oK_2"
   },
   "outputs": [],
   "source": [
    "data[data['survived'] == 1]"
   ]
  },
  {
   "cell_type": "code",
   "execution_count": null,
   "metadata": {
    "id": "CGhHaMoRoK_3"
   },
   "outputs": [],
   "source": [
    "# self excercise: suggest how to display only females gender"
   ]
  },
  {
   "cell_type": "code",
   "execution_count": null,
   "metadata": {
    "id": "Uqi-u4uMoK_4"
   },
   "outputs": [],
   "source": [
    "data[data['sex']=='female']"
   ]
  },
  {
   "cell_type": "code",
   "execution_count": null,
   "metadata": {
    "id": "UlNR4QI9oK_5"
   },
   "outputs": [],
   "source": [
    "# self excercise: suggest how to display only females survivors\n",
    "data[(data['survived'] == 1) & (data['sex']=='female')]"
   ]
  },
  {
   "cell_type": "code",
   "execution_count": null,
   "metadata": {
    "id": "glifJP5noK_5"
   },
   "outputs": [],
   "source": [
    "#### display some of the collumns by a list of collumns\n",
    "data[ [ 'pclass','age'] ] "
   ]
  },
  {
   "cell_type": "code",
   "execution_count": null,
   "metadata": {
    "id": "giwMiJqvoK_6"
   },
   "outputs": [],
   "source": [
    "#### Number of rows and collumns by hsape attribute:\n",
    "data.shape"
   ]
  },
  {
   "cell_type": "code",
   "execution_count": null,
   "metadata": {
    "id": "QQv08GzJoK_6"
   },
   "outputs": [],
   "source": [
    "#### Get more information such as the column names by info() method\n",
    "data.info()"
   ]
  },
  {
   "cell_type": "code",
   "execution_count": null,
   "metadata": {
    "id": "Gy-2LglMoK_6"
   },
   "outputs": [],
   "source": [
    "#### the type of the read data is data frame\n",
    "type(data)"
   ]
  },
  {
   "cell_type": "markdown",
   "metadata": {
    "id": "rb2mFLPKoK_7"
   },
   "source": [
    "# set nice equations\n",
    "### Sphere or Quadratic equations::\n",
    "$ x^2 + y^2 = z^2 \\\\$\n",
    "$ \\\\ x_1,_2 =  \\frac{- b\\pm \\sqrt{b^2-4ac}}{2a} $"
   ]
  },
  {
   "cell_type": "markdown",
   "metadata": {
    "id": "Pfs9PWFVoK_7"
   },
   "source": [
    "Emphasis, aka italics, with *asterisks* or _underscores_.\n",
    "\n",
    "Strong emphasis, aka bold, with **asterisks** or __underscores__.\n",
    "\n",
    "Combined emphasis with **asterisks and _underscores_**.\n",
    "\n",
    "Strikethrough uses two tildes. ~~Scratch this.~~"
   ]
  },
  {
   "cell_type": "code",
   "execution_count": null,
   "metadata": {
    "id": "ZvD8Qpv7oK_7"
   },
   "outputs": [],
   "source": [
    "import numpy as np\n",
    "arr = np.array([1, 2, 3, 4, 5])\n",
    "# . product\n",
    "print(arr*arr)"
   ]
  },
  {
   "cell_type": "markdown",
   "metadata": {
    "id": "SBdFozWBoK_8"
   },
   "source": [
    "#### vector multiplication\n",
    "arr.dot(arr)\n",
    "# or by \n",
    "arr@arr\n",
    "\n",
    "\n",
    "\n"
   ]
  },
  {
   "cell_type": "code",
   "execution_count": null,
   "metadata": {
    "id": "RBwOv9D5oK_8"
   },
   "outputs": [],
   "source": [
    "# Get current directory\n",
    "\n",
    "import os\n",
    "os.getcwd()"
   ]
  },
  {
   "cell_type": "code",
   "execution_count": null,
   "metadata": {
    "id": "V7oBYRGdoK_9"
   },
   "outputs": [],
   "source": [
    "#### Reset kernel by: Menu -> Kernel -> Restart Kenel"
   ]
  },
  {
   "cell_type": "code",
   "execution_count": null,
   "metadata": {},
   "outputs": [],
   "source": [
    "# Self learning:\n",
    "## 1. read & run tirgul2\n",
    "## 2. watch some of the specified tutorials"
   ]
  }
 ],
 "metadata": {
  "colab": {
   "collapsed_sections": [],
   "name": "tirgul1.ipynb",
   "provenance": []
  },
  "kernelspec": {
   "display_name": "Python 3 (ipykernel)",
   "language": "python",
   "name": "python3"
  },
  "language_info": {
   "codemirror_mode": {
    "name": "ipython",
    "version": 3
   },
   "file_extension": ".py",
   "mimetype": "text/x-python",
   "name": "python",
   "nbconvert_exporter": "python",
   "pygments_lexer": "ipython3",
   "version": "3.10.2"
  }
 },
 "nbformat": 4,
 "nbformat_minor": 4
}
